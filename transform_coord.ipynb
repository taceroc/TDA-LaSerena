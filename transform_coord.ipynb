{
 "cells": [
  {
   "cell_type": "code",
   "execution_count": 2,
   "metadata": {},
   "outputs": [],
   "source": [
    "import numpy as np\n",
    "from astropy.io import fits\n",
    "import pandas as pd\n",
    "import matplotlib.pyplot as plt"
   ]
  },
  {
   "cell_type": "code",
   "execution_count": 3,
   "metadata": {},
   "outputs": [],
   "source": [
    "data_full = fits.open(\"/home/taceroc/LaSerena/zpix-sv2-bright.fits\")"
   ]
  },
  {
   "cell_type": "code",
   "execution_count": 4,
   "metadata": {},
   "outputs": [
    {
     "data": {
      "text/plain": [
       "XTENSION= 'BINTABLE'           / binary table extension                         \n",
       "BITPIX  =                    8 / 8-bit bytes                                    \n",
       "NAXIS   =                    2 / 2-dimensional binary table                     \n",
       "NAXIS1  =                  642 / width of table in bytes                        \n",
       "NAXIS2  =                82288 / number of rows in table                        \n",
       "PCOUNT  =                    0 / size of special data area                      \n",
       "GCOUNT  =                    1 / one data group (required keyword)              \n",
       "TFIELDS =                  116 / number of fields in each row                   \n",
       "TTYPE1  = 'TARGETID'           / label for field   1                            \n",
       "TFORM1  = 'K       '           / data format of field: 8-byte INTEGER           \n",
       "TTYPE2  = 'HEALPIX '           / label for field   2                            \n",
       "TFORM2  = 'J       '           / data format of field: 4-byte INTEGER           \n",
       "TTYPE3  = 'SPGRPVAL'           / label for field   3                            \n",
       "TFORM3  = 'J       '           / data format of field: 4-byte INTEGER           \n",
       "TTYPE4  = 'Z       '           / label for field   4                            \n",
       "TFORM4  = 'D       '           / data format of field: 8-byte DOUBLE            \n",
       "TTYPE5  = 'ZERR    '           / label for field   5                            \n",
       "TFORM5  = 'D       '           / data format of field: 8-byte DOUBLE            \n",
       "TTYPE6  = 'ZWARN   '           / label for field   6                            \n",
       "TFORM6  = 'K       '           / data format of field: 8-byte INTEGER           \n",
       "TTYPE7  = 'CHI2    '           / label for field   7                            \n",
       "TFORM7  = 'D       '           / data format of field: 8-byte DOUBLE            \n",
       "TTYPE8  = 'COEFF   '           / label for field   8                            \n",
       "TFORM8  = '10D     '           / data format of field: 8-byte DOUBLE            \n",
       "TTYPE9  = 'NPIXELS '           / label for field   9                            \n",
       "TFORM9  = 'K       '           / data format of field: 8-byte INTEGER           \n",
       "TTYPE10 = 'SPECTYPE'           / label for field  10                            \n",
       "TFORM10 = '6A      '           / data format of field: ASCII Character          \n",
       "TTYPE11 = 'SUBTYPE '           / label for field  11                            \n",
       "TFORM11 = '20A     '           / data format of field: ASCII Character          \n",
       "TTYPE12 = 'NCOEFF  '           / label for field  12                            \n",
       "TFORM12 = 'K       '           / data format of field: 8-byte INTEGER           \n",
       "TTYPE13 = 'DELTACHI2'          / label for field  13                            \n",
       "TFORM13 = 'D       '           / data format of field: 8-byte DOUBLE            \n",
       "TTYPE14 = 'COADD_FIBERSTATUS'  / label for field  14                            \n",
       "TFORM14 = 'J       '           / data format of field: 4-byte INTEGER           \n",
       "TTYPE15 = 'TARGET_RA'          / label for field  15                            \n",
       "TFORM15 = 'D       '           / data format of field: 8-byte DOUBLE            \n",
       "TTYPE16 = 'TARGET_DEC'         / label for field  16                            \n",
       "TFORM16 = 'D       '           / data format of field: 8-byte DOUBLE            \n",
       "TTYPE17 = 'PMRA    '           / label for field  17                            \n",
       "TFORM17 = 'E       '           / data format of field: 4-byte REAL              \n",
       "TTYPE18 = 'PMDEC   '           / label for field  18                            \n",
       "TFORM18 = 'E       '           / data format of field: 4-byte REAL              \n",
       "TTYPE19 = 'REF_EPOCH'          / label for field  19                            \n",
       "TFORM19 = 'E       '           / data format of field: 4-byte REAL              \n",
       "TTYPE20 = 'FA_TARGET'          / label for field  20                            \n",
       "TFORM20 = 'K       '           / data format of field: 8-byte INTEGER           \n",
       "TTYPE21 = 'FA_TYPE '           / label for field  21                            \n",
       "TFORM21 = 'B       '           / data format of field: BYTE                     \n",
       "TTYPE22 = 'OBJTYPE '           / label for field  22                            \n",
       "TFORM22 = '3A      '           / data format of field: ASCII Character          \n",
       "TTYPE23 = 'SUBPRIORITY'        / label for field  23                            \n",
       "TFORM23 = 'D       '           / data format of field: 8-byte DOUBLE            \n",
       "TTYPE24 = 'OBSCONDITIONS'      / label for field  24                            \n",
       "TFORM24 = 'J       '           / data format of field: 4-byte INTEGER           \n",
       "TTYPE25 = 'RELEASE '           / label for field  25                            \n",
       "TFORM25 = 'I       '           / data format of field: 2-byte INTEGER           \n",
       "TTYPE26 = 'BRICKNAME'          / label for field  26                            \n",
       "TFORM26 = '8A      '           / data format of field: ASCII Character          \n",
       "TTYPE27 = 'BRICKID '           / label for field  27                            \n",
       "TFORM27 = 'J       '           / data format of field: 4-byte INTEGER           \n",
       "TTYPE28 = 'BRICK_OBJID'        / label for field  28                            \n",
       "TFORM28 = 'J       '           / data format of field: 4-byte INTEGER           \n",
       "TTYPE29 = 'MORPHTYPE'          / label for field  29                            \n",
       "TFORM29 = '4A      '           / data format of field: ASCII Character          \n",
       "TTYPE30 = 'EBV     '           / label for field  30                            \n",
       "TFORM30 = 'E       '           / data format of field: 4-byte REAL              \n",
       "TTYPE31 = 'FLUX_G  '           / label for field  31                            \n",
       "TFORM31 = 'E       '           / data format of field: 4-byte REAL              \n",
       "TTYPE32 = 'FLUX_R  '           / label for field  32                            \n",
       "TFORM32 = 'E       '           / data format of field: 4-byte REAL              \n",
       "TTYPE33 = 'FLUX_Z  '           / label for field  33                            \n",
       "TFORM33 = 'E       '           / data format of field: 4-byte REAL              \n",
       "TTYPE34 = 'FLUX_W1 '           / label for field  34                            \n",
       "TFORM34 = 'E       '           / data format of field: 4-byte REAL              \n",
       "TTYPE35 = 'FLUX_W2 '           / label for field  35                            \n",
       "TFORM35 = 'E       '           / data format of field: 4-byte REAL              \n",
       "TTYPE36 = 'FLUX_IVAR_G'        / label for field  36                            \n",
       "TFORM36 = 'E       '           / data format of field: 4-byte REAL              \n",
       "TTYPE37 = 'FLUX_IVAR_R'        / label for field  37                            \n",
       "TFORM37 = 'E       '           / data format of field: 4-byte REAL              \n",
       "TTYPE38 = 'FLUX_IVAR_Z'        / label for field  38                            \n",
       "TFORM38 = 'E       '           / data format of field: 4-byte REAL              \n",
       "TTYPE39 = 'FLUX_IVAR_W1'       / label for field  39                            \n",
       "TFORM39 = 'E       '           / data format of field: 4-byte REAL              \n",
       "TTYPE40 = 'FLUX_IVAR_W2'       / label for field  40                            \n",
       "TFORM40 = 'E       '           / data format of field: 4-byte REAL              \n",
       "TTYPE41 = 'FIBERFLUX_G'        / label for field  41                            \n",
       "TFORM41 = 'E       '           / data format of field: 4-byte REAL              \n",
       "TTYPE42 = 'FIBERFLUX_R'        / label for field  42                            \n",
       "TFORM42 = 'E       '           / data format of field: 4-byte REAL              \n",
       "TTYPE43 = 'FIBERFLUX_Z'        / label for field  43                            \n",
       "TFORM43 = 'E       '           / data format of field: 4-byte REAL              \n",
       "TTYPE44 = 'FIBERTOTFLUX_G'     / label for field  44                            \n",
       "TFORM44 = 'E       '           / data format of field: 4-byte REAL              \n",
       "TTYPE45 = 'FIBERTOTFLUX_R'     / label for field  45                            \n",
       "TFORM45 = 'E       '           / data format of field: 4-byte REAL              \n",
       "TTYPE46 = 'FIBERTOTFLUX_Z'     / label for field  46                            \n",
       "TFORM46 = 'E       '           / data format of field: 4-byte REAL              \n",
       "TTYPE47 = 'MASKBITS'           / label for field  47                            \n",
       "TFORM47 = 'I       '           / data format of field: 2-byte INTEGER           \n",
       "TTYPE48 = 'SERSIC  '           / label for field  48                            \n",
       "TFORM48 = 'E       '           / data format of field: 4-byte REAL              \n",
       "TTYPE49 = 'SHAPE_R '           / label for field  49                            \n",
       "TFORM49 = 'E       '           / data format of field: 4-byte REAL              \n",
       "TTYPE50 = 'SHAPE_E1'           / label for field  50                            \n",
       "TFORM50 = 'E       '           / data format of field: 4-byte REAL              \n",
       "TTYPE51 = 'SHAPE_E2'           / label for field  51                            \n",
       "TFORM51 = 'E       '           / data format of field: 4-byte REAL              \n",
       "TTYPE52 = 'REF_ID  '           / label for field  52                            \n",
       "TFORM52 = 'K       '           / data format of field: 8-byte INTEGER           \n",
       "TTYPE53 = 'REF_CAT '           / label for field  53                            \n",
       "TFORM53 = '2A      '           / data format of field: ASCII Character          \n",
       "TTYPE54 = 'GAIA_PHOT_G_MEAN_MAG' / label for field  54                          \n",
       "TFORM54 = 'E       '           / data format of field: 4-byte REAL              \n",
       "TTYPE55 = 'GAIA_PHOT_BP_MEAN_MAG' / label for field  55                         \n",
       "TFORM55 = 'E       '           / data format of field: 4-byte REAL              \n",
       "TTYPE56 = 'GAIA_PHOT_RP_MEAN_MAG' / label for field  56                         \n",
       "TFORM56 = 'E       '           / data format of field: 4-byte REAL              \n",
       "TTYPE57 = 'PARALLAX'           / label for field  57                            \n",
       "TFORM57 = 'E       '           / data format of field: 4-byte REAL              \n",
       "TTYPE58 = 'PHOTSYS '           / label for field  58                            \n",
       "TFORM58 = '1A      '           / data format of field: ASCII Character          \n",
       "TTYPE59 = 'PRIORITY_INIT'      / label for field  59                            \n",
       "TFORM59 = 'K       '           / data format of field: 8-byte INTEGER           \n",
       "TTYPE60 = 'NUMOBS_INIT'        / label for field  60                            \n",
       "TFORM60 = 'K       '           / data format of field: 8-byte INTEGER           \n",
       "TTYPE61 = 'SV2_DESI_TARGET'    / label for field  61                            \n",
       "TFORM61 = 'K       '           / data format of field: 8-byte INTEGER           \n",
       "TTYPE62 = 'SV2_BGS_TARGET'     / label for field  62                            \n",
       "TFORM62 = 'K       '           / data format of field: 8-byte INTEGER           \n",
       "TTYPE63 = 'SV2_MWS_TARGET'     / label for field  63                            \n",
       "TFORM63 = 'K       '           / data format of field: 8-byte INTEGER           \n",
       "TTYPE64 = 'SV2_SCND_TARGET'    / label for field  64                            \n",
       "TFORM64 = 'K       '           / data format of field: 8-byte INTEGER           \n",
       "TTYPE65 = 'DESI_TARGET'        / label for field  65                            \n",
       "TFORM65 = 'K       '           / data format of field: 8-byte INTEGER           \n",
       "TTYPE66 = 'BGS_TARGET'         / label for field  66                            \n",
       "TFORM66 = 'K       '           / data format of field: 8-byte INTEGER           \n",
       "TTYPE67 = 'MWS_TARGET'         / label for field  67                            \n",
       "TFORM67 = 'K       '           / data format of field: 8-byte INTEGER           \n",
       "TTYPE68 = 'PLATE_RA'           / label for field  68                            \n",
       "TFORM68 = 'D       '           / data format of field: 8-byte DOUBLE            \n",
       "TTYPE69 = 'PLATE_DEC'          / label for field  69                            \n",
       "TFORM69 = 'D       '           / data format of field: 8-byte DOUBLE            \n",
       "TTYPE70 = 'COADD_NUMEXP'       / label for field  70                            \n",
       "TFORM70 = 'I       '           / data format of field: 2-byte INTEGER           \n",
       "TTYPE71 = 'COADD_EXPTIME'      / label for field  71                            \n",
       "TFORM71 = 'E       '           / data format of field: 4-byte REAL              \n",
       "TTYPE72 = 'COADD_NUMNIGHT'     / label for field  72                            \n",
       "TFORM72 = 'I       '           / data format of field: 2-byte INTEGER           \n",
       "TTYPE73 = 'COADD_NUMTILE'      / label for field  73                            \n",
       "TFORM73 = 'I       '           / data format of field: 2-byte INTEGER           \n",
       "TTYPE74 = 'MEAN_DELTA_X'       / label for field  74                            \n",
       "TFORM74 = 'E       '           / data format of field: 4-byte REAL              \n",
       "TTYPE75 = 'RMS_DELTA_X'        / label for field  75                            \n",
       "TFORM75 = 'E       '           / data format of field: 4-byte REAL              \n",
       "TTYPE76 = 'MEAN_DELTA_Y'       / label for field  76                            \n",
       "TFORM76 = 'E       '           / data format of field: 4-byte REAL              \n",
       "TTYPE77 = 'RMS_DELTA_Y'        / label for field  77                            \n",
       "TFORM77 = 'E       '           / data format of field: 4-byte REAL              \n",
       "TTYPE78 = 'MEAN_FIBER_RA'      / label for field  78                            \n",
       "TFORM78 = 'D       '           / data format of field: 8-byte DOUBLE            \n",
       "TTYPE79 = 'STD_FIBER_RA'       / label for field  79                            \n",
       "TFORM79 = 'E       '           / data format of field: 4-byte REAL              \n",
       "TTYPE80 = 'MEAN_FIBER_DEC'     / label for field  80                            \n",
       "TFORM80 = 'D       '           / data format of field: 8-byte DOUBLE            \n",
       "TTYPE81 = 'STD_FIBER_DEC'      / label for field  81                            \n",
       "TFORM81 = 'E       '           / data format of field: 4-byte REAL              \n",
       "TTYPE82 = 'MEAN_PSF_TO_FIBER_SPECFLUX' / label for field  82                    \n",
       "TFORM82 = 'E       '           / data format of field: 4-byte REAL              \n",
       "TTYPE83 = 'TSNR2_GPBDARK_B'    / label for field  83                            \n",
       "TFORM83 = 'E       '           / data format of field: 4-byte REAL              \n",
       "TTYPE84 = 'TSNR2_ELG_B'        / label for field  84                            \n",
       "TFORM84 = 'E       '           / data format of field: 4-byte REAL              \n",
       "TTYPE85 = 'TSNR2_GPBBRIGHT_B'  / label for field  85                            \n",
       "TFORM85 = 'E       '           / data format of field: 4-byte REAL              \n",
       "TTYPE86 = 'TSNR2_LYA_B'        / label for field  86                            \n",
       "TFORM86 = 'E       '           / data format of field: 4-byte REAL              \n",
       "TTYPE87 = 'TSNR2_BGS_B'        / label for field  87                            \n",
       "TFORM87 = 'E       '           / data format of field: 4-byte REAL              \n",
       "TTYPE88 = 'TSNR2_GPBBACKUP_B'  / label for field  88                            \n",
       "TFORM88 = 'E       '           / data format of field: 4-byte REAL              \n",
       "TTYPE89 = 'TSNR2_QSO_B'        / label for field  89                            \n",
       "TFORM89 = 'E       '           / data format of field: 4-byte REAL              \n",
       "TTYPE90 = 'TSNR2_LRG_B'        / label for field  90                            \n",
       "TFORM90 = 'E       '           / data format of field: 4-byte REAL              \n",
       "TTYPE91 = 'TSNR2_GPBDARK_R'    / label for field  91                            \n",
       "TFORM91 = 'E       '           / data format of field: 4-byte REAL              \n",
       "TTYPE92 = 'TSNR2_ELG_R'        / label for field  92                            \n",
       "TFORM92 = 'E       '           / data format of field: 4-byte REAL              \n",
       "TTYPE93 = 'TSNR2_GPBBRIGHT_R'  / label for field  93                            \n",
       "TFORM93 = 'E       '           / data format of field: 4-byte REAL              \n",
       "TTYPE94 = 'TSNR2_LYA_R'        / label for field  94                            \n",
       "TFORM94 = 'E       '           / data format of field: 4-byte REAL              \n",
       "TTYPE95 = 'TSNR2_BGS_R'        / label for field  95                            \n",
       "TFORM95 = 'E       '           / data format of field: 4-byte REAL              \n",
       "TTYPE96 = 'TSNR2_GPBBACKUP_R'  / label for field  96                            \n",
       "TFORM96 = 'E       '           / data format of field: 4-byte REAL              \n",
       "TTYPE97 = 'TSNR2_QSO_R'        / label for field  97                            \n",
       "TFORM97 = 'E       '           / data format of field: 4-byte REAL              \n",
       "TTYPE98 = 'TSNR2_LRG_R'        / label for field  98                            \n",
       "TFORM98 = 'E       '           / data format of field: 4-byte REAL              \n",
       "TTYPE99 = 'TSNR2_GPBDARK_Z'    / label for field  99                            \n",
       "TFORM99 = 'E       '           / data format of field: 4-byte REAL              \n",
       "TTYPE100= 'TSNR2_ELG_Z'        / label for field 100                            \n",
       "TFORM100= 'E       '           / data format of field: 4-byte REAL              \n",
       "TTYPE101= 'TSNR2_GPBBRIGHT_Z'  / label for field 101                            \n",
       "TFORM101= 'E       '           / data format of field: 4-byte REAL              \n",
       "TTYPE102= 'TSNR2_LYA_Z'        / label for field 102                            \n",
       "TFORM102= 'E       '           / data format of field: 4-byte REAL              \n",
       "TTYPE103= 'TSNR2_BGS_Z'        / label for field 103                            \n",
       "TFORM103= 'E       '           / data format of field: 4-byte REAL              \n",
       "TTYPE104= 'TSNR2_GPBBACKUP_Z'  / label for field 104                            \n",
       "TFORM104= 'E       '           / data format of field: 4-byte REAL              \n",
       "TTYPE105= 'TSNR2_QSO_Z'        / label for field 105                            \n",
       "TFORM105= 'E       '           / data format of field: 4-byte REAL              \n",
       "TTYPE106= 'TSNR2_LRG_Z'        / label for field 106                            \n",
       "TFORM106= 'E       '           / data format of field: 4-byte REAL              \n",
       "TTYPE107= 'TSNR2_GPBDARK'      / label for field 107                            \n",
       "TFORM107= 'E       '           / data format of field: 4-byte REAL              \n",
       "TTYPE108= 'TSNR2_ELG'          / label for field 108                            \n",
       "TFORM108= 'E       '           / data format of field: 4-byte REAL              \n",
       "TTYPE109= 'TSNR2_GPBBRIGHT'    / label for field 109                            \n",
       "TFORM109= 'E       '           / data format of field: 4-byte REAL              \n",
       "TTYPE110= 'TSNR2_LYA'          / label for field 110                            \n",
       "TFORM110= 'E       '           / data format of field: 4-byte REAL              \n",
       "TTYPE111= 'TSNR2_BGS'          / label for field 111                            \n",
       "TFORM111= 'E       '           / data format of field: 4-byte REAL              \n",
       "TTYPE112= 'TSNR2_GPBBACKUP'    / label for field 112                            \n",
       "TFORM112= 'E       '           / data format of field: 4-byte REAL              \n",
       "TTYPE113= 'TSNR2_QSO'          / label for field 113                            \n",
       "TFORM113= 'E       '           / data format of field: 4-byte REAL              \n",
       "TTYPE114= 'TSNR2_LRG'          / label for field 114                            \n",
       "TFORM114= 'E       '           / data format of field: 4-byte REAL              \n",
       "TTYPE115= 'ZCAT_NSPEC'         / label for field 115                            \n",
       "TFORM115= 'I       '           / data format of field: 2-byte INTEGER           \n",
       "TTYPE116= 'ZCAT_PRIMARY'       / label for field 116                            \n",
       "TFORM116= 'L       '           / data format of field: 1-byte LOGICAL           \n",
       "EXTNAME = 'ZCATALOG'           / name of this binary table extension            \n",
       "LONGSTRN= 'OGIP 1.0'                                                            \n",
       "RRVER   = '0.15.3  '           / Redrock version                                \n",
       "TEMNAM00= 'GALAXY  '                                                            \n",
       "TEMVER00= '2.6     '                                                            \n",
       "TEMNAM01= 'QSO     '                                                            \n",
       "TEMVER01= '0.1     '                                                            \n",
       "TEMNAM02= 'STAR:::A'                                                            \n",
       "TEMVER02= '0.1     '                                                            \n",
       "TEMNAM03= 'STAR:::B'                                                            \n",
       "TEMVER03= '0.1     '                                                            \n",
       "TEMNAM04= 'STAR:::CV'                                                           \n",
       "TEMVER04= '0.1     '                                                            \n",
       "TEMNAM05= 'STAR:::F'                                                            \n",
       "TEMVER05= '0.1     '                                                            \n",
       "TEMNAM06= 'STAR:::G'                                                            \n",
       "TEMVER06= '0.1     '                                                            \n",
       "TEMNAM07= 'STAR:::K'                                                            \n",
       "TEMVER07= '0.1     '                                                            \n",
       "TEMNAM08= 'STAR:::M'                                                            \n",
       "TEMVER08= '0.1     '                                                            \n",
       "TEMNAM09= 'STAR:::WD'                                                           \n",
       "TEMVER09= '0.1     '                                                            \n",
       "DEPNAM00= 'python  '                                                            \n",
       "DEPVER00= '3.9.7   '                                                            \n",
       "DEPNAM01= 'numpy   '                                                            \n",
       "DEPVER01= '1.21.4  '                                                            \n",
       "DEPNAM02= 'scipy   '                                                            \n",
       "DEPVER02= '1.7.3   '                                                            \n",
       "DEPNAM03= 'astropy '                                                            \n",
       "DEPVER03= '5.0     '                                                            \n",
       "DEPNAM04= 'yaml    '                                                            \n",
       "DEPVER04= '6.0     '                                                            \n",
       "DEPNAM05= 'h5py    '                                                            \n",
       "DEPVER05= '3.6.0   '                                                            \n",
       "DEPNAM06= 'mpi4py  '                                                            \n",
       "DEPVER06= '3.1.3   '                                                            \n",
       "DEPNAM07= 'desiutil'                                                            \n",
       "DEPVER07= '3.2.5   '                                                            \n",
       "DEPNAM08= 'desispec'                                                            \n",
       "DEPVER08= '0.51.8  '                                                            \n",
       "DEPNAM09= 'redrock '                                                            \n",
       "DEPVER09= '0.15.3  '                                                            \n",
       "DEPNAM10= 'DESI_ROOT'                                                           \n",
       "DEPVER10= '/global/cfs/cdirs/desi'                                              \n",
       "DEPNAM11= 'DESI_SPECTRO_DATA'                                                   \n",
       "DEPVER11= '/global/cfs/cdirs/desi/spectro/data'                                 \n",
       "DEPNAM12= 'DESI_SPECTRO_REDUX'                                                  \n",
       "DEPVER12= '/global/cfs/cdirs/desi/spectro/redux'                                \n",
       "DEPNAM13= 'SPECPROD'                                                            \n",
       "DEPVER13= 'fuji    '                                                            \n",
       "DEPNAM14= 'DESI_SPECTRO_CALIB'                                                  \n",
       "DEPVER14= '/global/cfs/cdirs/desi/spectro/desi_spectro_calib/0.3.1'             \n",
       "DEPNAM15= 'DESI_BASIS_TEMPLATES'                                                \n",
       "DEPVER15= '/global/cfs/cdirs/desi/spectro/templates/basis_templates/v3.2'       \n",
       "DEPNAM16= 'DESI_TARGET'                                                         \n",
       "DEPVER16= '/global/cfs/cdirs/desi/target'                                       \n",
       "DEPNAM17= 'DESIMODEL'                                                           \n",
       "DEPVER17= '/global/common/software/desi/cori/desiconda/20211217-2.0.0/code/des&'\n",
       "CONTINUE  'imodel/0.17.0'                                                       \n",
       "DEPNAM18= 'RR_TEMPLATE_DIR'                                                     \n",
       "DEPVER18= '/global/common/software/desi/cori/desiconda/20211217-2.0.0/code/red&'\n",
       "CONTINUE  'rock-templates/0.7.2'                                                \n",
       "SPGRP   = 'healpix '                                                            \n",
       "HPXNSIDE=                   64                                                  \n",
       "HPXNEST = 'True    '                                                            \n",
       "SURVEY  = 'sv2     '                                                            \n",
       "PROGRAM = 'bright  '                                                            "
      ]
     },
     "execution_count": 4,
     "metadata": {},
     "output_type": "execute_result"
    }
   ],
   "source": [
    "data_full[1].header"
   ]
  },
  {
   "cell_type": "code",
   "execution_count": 4,
   "metadata": {},
   "outputs": [],
   "source": [
    "datas = data_full[1].data"
   ]
  },
  {
   "cell_type": "code",
   "execution_count": 5,
   "metadata": {},
   "outputs": [
    {
     "data": {
      "text/plain": [
       "(1051806,)"
      ]
     },
     "execution_count": 5,
     "metadata": {},
     "output_type": "execute_result"
    }
   ],
   "source": [
    "datas.shape"
   ]
  },
  {
   "cell_type": "code",
   "execution_count": 6,
   "metadata": {},
   "outputs": [
    {
     "data": {
      "text/plain": [
       "106"
      ]
     },
     "execution_count": 6,
     "metadata": {},
     "output_type": "execute_result"
    }
   ],
   "source": [
    "len(datas[0])"
   ]
  },
  {
   "cell_type": "code",
   "execution_count": 11,
   "metadata": {},
   "outputs": [
    {
     "data": {
      "text/plain": [
       "(8000, 250534, '0140m140', 4, 'DEV', 14.068052600474186, 625501340000.0, -14.122993189773611, 589086060000.0, array([34380.668, 38448.35 , 39359.773, 38700.184, 39349.703],\n",
       "      dtype=float32), 0.026342522, 1.9859346, 10.538385, 25.16871, 556.5482, 150.63644, 32.30685, 0.9249836, 0.94882774, 0.97104573, 0.010367637, 0.0038242268, 0.0047267303, 0.010728313, 0.0065708198, 0.011166844, 0.99698544, 0.99785626, 0.9973535, 3, 3, 3, 1963.2085, 842.29834, 97.91261, 1149.9393, 424.1845, 60.017036, 43.4051, 25.635418, -46.416992, 63.89641, 2.6641254, 0.4798117, 0.0008706694, 1.2146989e-05, 0.9955457, 0.9972621, 0.99941546, 0.9997792, 0, 0, 0, 0.8141933, 4.3205266, 10.318666, 0.8164168, 4.3263516, 10.329078, 0.0, 0, 0, 0, 1.0, 1.0, 0.82117516, 0.029768864, -0.2105094, 11749.498, 5750.002, 10673.863, 0.0, 0.0, 0.0, 0.0, 0.0, 0.0, 0, '', 0.0, 0.0, 0.0, 0.0, 0.0, 0.0, 0.0, 0.0, False, 0.0, 0.0, 0.0, 0.0, 0.0, 0.0, 0.0, 0.0, 'S', 35185422904590340, 1152921504606846976, 65537, 0, 0.7711840984536714, 7, 2000, 1, 16860)"
      ]
     },
     "execution_count": 11,
     "metadata": {},
     "output_type": "execute_result"
    }
   ],
   "source": [
    "datas[0]"
   ]
  },
  {
   "cell_type": "code",
   "execution_count": 14,
   "metadata": {},
   "outputs": [
    {
     "data": {
      "text/plain": [
       "<matplotlib.collections.PathCollection at 0x7f26583b9480>"
      ]
     },
     "execution_count": 14,
     "metadata": {},
     "output_type": "execute_result"
    },
    {
     "data": {
      "image/png": "[encoded data removed]",
      "text/plain": [
       "<Figure size 640x480 with 1 Axes>"
      ]
     },
     "metadata": {},
     "output_type": "display_data"
    }
   ],
   "source": [
    "plt.scatter(datas[\"RA\"], datas[\"DEC\"])"
   ]
  },
  {
   "cell_type": "code",
   "execution_count": 67,
   "metadata": {},
   "outputs": [],
   "source": [
    "data_reduce = datas[::100]"
   ]
  },
  {
   "cell_type": "code",
   "execution_count": 68,
   "metadata": {},
   "outputs": [
    {
     "data": {
      "text/plain": [
       "(10519,)"
      ]
     },
     "execution_count": 68,
     "metadata": {},
     "output_type": "execute_result"
    }
   ],
   "source": [
    "data_reduce.shape"
   ]
  },
  {
   "cell_type": "code",
   "execution_count": 69,
   "metadata": {},
   "outputs": [
    {
     "data": {
      "text/plain": [
       "<matplotlib.collections.PathCollection at 0x7f264ecf55a0>"
      ]
     },
     "execution_count": 69,
     "metadata": {},
     "output_type": "execute_result"
    },
    {
     "data": {
      "image/png": "[encoded data removed]",
      "text/plain": [
       "<Figure size 640x480 with 1 Axes>"
      ]
     },
     "metadata": {},
     "output_type": "display_data"
    }
   ],
   "source": [
    "plt.scatter(data_reduce[\"RA\"], data_reduce[\"DEC\"])\n"
   ]
  },
  {
   "cell_type": "code",
   "execution_count": 70,
   "metadata": {},
   "outputs": [],
   "source": [
    "data_reduce = data_reduce[data_reduce[\"PARALLAX\"] > 0]"
   ]
  },
  {
   "cell_type": "code",
   "execution_count": 72,
   "metadata": {},
   "outputs": [
    {
     "data": {
      "text/plain": [
       "3531"
      ]
     },
     "execution_count": 72,
     "metadata": {},
     "output_type": "execute_result"
    }
   ],
   "source": [
    "len(data_reduce)"
   ]
  },
  {
   "cell_type": "code",
   "execution_count": 73,
   "metadata": {},
   "outputs": [],
   "source": [
    "parallax = data_reduce[data_reduce[\"PARALLAX\"] > 0][\"PARALLAX\"]"
   ]
  },
  {
   "cell_type": "code",
   "execution_count": 74,
   "metadata": {},
   "outputs": [
    {
     "data": {
      "text/plain": [
       "[<matplotlib.lines.Line2D at 0x7f264ed9a6b0>]"
      ]
     },
     "execution_count": 74,
     "metadata": {},
     "output_type": "execute_result"
    },
    {
     "data": {
      "image/png": "[encoded data removed]",
      "text/plain": [
       "<Figure size 640x480 with 1 Axes>"
      ]
     },
     "metadata": {},
     "output_type": "display_data"
    }
   ],
   "source": [
    "plt.plot(parallax)"
   ]
  },
  {
   "cell_type": "code",
   "execution_count": 28,
   "metadata": {},
   "outputs": [],
   "source": [
    "from astropy import units as u\n",
    "import astropy"
   ]
  },
  {
   "cell_type": "code",
   "execution_count": 62,
   "metadata": {},
   "outputs": [],
   "source": [
    "distances = astropy.coordinates.Distance(parallax=parallax*u.mas, allow_negative=True)\n"
   ]
  },
  {
   "cell_type": "code",
   "execution_count": 63,
   "metadata": {},
   "outputs": [
    {
     "data": {
      "text/plain": [
       "[<matplotlib.lines.Line2D at 0x7f264ec63b80>]"
      ]
     },
     "execution_count": 63,
     "metadata": {},
     "output_type": "execute_result"
    },
    {
     "data": {
      "image/png": "[encoded data removed]",
      "text/plain": [
       "<Figure size 640x480 with 1 Axes>"
      ]
     },
     "metadata": {},
     "output_type": "display_data"
    }
   ],
   "source": [
    "plt.plot(distances)"
   ]
  },
  {
   "cell_type": "code",
   "execution_count": 64,
   "metadata": {},
   "outputs": [
    {
     "data": {
      "text/plain": [
       "(2326944.2, 34.51166)"
      ]
     },
     "execution_count": 64,
     "metadata": {},
     "output_type": "execute_result"
    }
   ],
   "source": [
    "np.nanmax(distances.value), np.nanmin(distances.value)"
   ]
  },
  {
   "cell_type": "code",
   "execution_count": 65,
   "metadata": {},
   "outputs": [
    {
     "data": {
      "text/plain": [
       "array([2297.9478 , 1366.3347 ,  420.49078, ..., 1322.2595 , 2427.2463 ,\n",
       "       2774.3083 ], dtype=float32)"
      ]
     },
     "execution_count": 65,
     "metadata": {},
     "output_type": "execute_result"
    }
   ],
   "source": [
    "distances.value"
   ]
  },
  {
   "cell_type": "code",
   "execution_count": 80,
   "metadata": {},
   "outputs": [],
   "source": [
    "c = astropy.coordinates.SkyCoord(ra=data_reduce[\"RA\"]*u.degree, dec=data_reduce[\"DEC\"]*u.degree, distance=distances)"
   ]
  },
  {
   "cell_type": "code",
   "execution_count": 81,
   "metadata": {},
   "outputs": [
    {
     "data": {
      "text/plain": [
       "<SkyCoord (ICRS): (ra, dec, distance) in (deg, deg, pc)\n",
       "    [( 13.92142244, -13.93681555, 2297.9478 ),\n",
       "     ( 14.70732841, -12.8285073 , 1366.3347 ),\n",
       "     ( 14.08283385, -13.75135316,  420.49078), ...,\n",
       "     (350.2909338 , -15.15767774, 1322.2595 ),\n",
       "     (351.18718022, -15.20203697, 2427.2463 ),\n",
       "     (351.32033545, -15.02155964, 2774.3083 )]>"
      ]
     },
     "execution_count": 81,
     "metadata": {},
     "output_type": "execute_result"
    }
   ],
   "source": [
    "c"
   ]
  },
  {
   "cell_type": "code",
   "execution_count": 82,
   "metadata": {},
   "outputs": [
    {
     "data": {
      "text/latex": [
       "$[2164.7891,~1288.5795,~396.16241,~\\dots,~1257.9779,~2314.6571,~2648.8187] \\; \\mathrm{pc}$"
      ],
      "text/plain": [
       "<Quantity [2164.78906493, 1288.57951954,  396.16240649, ..., 1257.97787763,\n",
       "           2314.65710862, 2648.81869299] pc>"
      ]
     },
     "execution_count": 82,
     "metadata": {},
     "output_type": "execute_result"
    }
   ],
   "source": [
    "c.cartesian.x"
   ]
  },
  {
   "cell_type": "code",
   "execution_count": null,
   "metadata": {},
   "outputs": [],
   "source": []
  }
 ],
 "metadata": {
  "kernelspec": {
   "display_name": "lssds",
   "language": "python",
   "name": "python3"
  },
  "language_info": {
   "codemirror_mode": {
    "name": "ipython",
    "version": 3
   },
   "file_extension": ".py",
   "mimetype": "text/x-python",
   "name": "python",
   "nbconvert_exporter": "python",
   "pygments_lexer": "ipython3",
   "version": "3.10.12"
  },
  "orig_nbformat": 4
 },
 "nbformat": 4,
 "nbformat_minor": 2
}
